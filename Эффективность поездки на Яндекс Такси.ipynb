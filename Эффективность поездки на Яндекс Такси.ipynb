{
 "cells": [
  {
   "cell_type": "code",
   "execution_count": 1,
   "metadata": {},
   "outputs": [],
   "source": [
    "%matplotlib inline\n",
    "import pandas as pd\n",
    "import seaborn as sns\n",
    "from datetime import datetime\n",
    "import numpy as np"
   ]
  },
  {
   "cell_type": "markdown",
   "metadata": {},
   "source": [
    "Вводные\n",
    "\n",
    "Водитель может находиться в 4 возможных статусах:\n",
    "    * free -- доступен для нового заказа\n",
    "    * enroute -- едет на заказ\n",
    "    * ontrip -- выполняет заказ\n",
    "    * busy -- недоступен для нового заказа\n",
    "\n",
    "Возможные переходы из одного состояние в другое определены как:\n",
    "    * free -> [free, enroute, busy]\n",
    "    * enroute -> [free, ontrip]\n",
    "    * ontrip -> [free]\n",
    "    * busy -> [free]\n",
    "\n",
    "Почему переходы определяются таким образом:\n",
    "1. Из состояния free можно перейти в\n",
    "    * free -- если водитель ушел в офлайн и заново вышел на линию, тогда подряд будет две записи со статусом free\n",
    "    * enroute -- если водитель принял заказ, то переходит в статус enroute и едет к клиенту\n",
    "    * busy -- если водитель нажал кнопку \"Занят\" в таксометре (пошел на обед и т.д.)\n",
    "2. Из состояния enroute можно перейти в \n",
    "    * free -- если клиент или водитель отменил заказ\n",
    "    * ontrip -- если водитель приехал к клиенту и начал выполнять заказ\n",
    "3. Из состояния ontrip можно перейти только в free (после выполнения заказа)\n",
    "4. Из состояния busy можно перейти только в free\n",
    "\n",
    "Эффективность на поездке -- это время с клиентом в машине (ontrip), деленное на сумму длительностей всех статусов, связанных с поездкой (sum(free) + enroute + ontrip), где sum(free) -- время простоя.\n",
    "\n",
    "Время простоя -- это сумма всех статусов free, предшествующих поездке. Суммируются все статусы free, идущие подряд, а также те, которые были прерваны короткими статусами busy или enroute (короткий статус == меньше какого-то TIMEOUT'а).\n",
    "\n",
    "Имеется набор данных со статусами водителей, по которому необходимо построить зависимость длительности поездки от эффективности.\n",
    "    * driver_id -- id водителя\n",
    "    * status -- один из статусов\n",
    "    * dttm -- время начала статуса\n",
    "\n",
    "Примечания:\n",
    "    * Поездка считается только при наличии статуса ontrip\n",
    "    * Тесты написаны для python 2"
   ]
  },
  {
   "cell_type": "markdown",
   "metadata": {},
   "source": [
    "    1. Написать функцию-генератор, которая будет отдавать соседние элементы в цикле. Функция понадобится для итерирования по записям водителя и проверки соседних статусов по условиям. Не забудьте проверить, что тесты проходят без ошибок (см. test_neighbors)."
   ]
  },
  {
   "cell_type": "code",
   "execution_count": 2,
   "metadata": {},
   "outputs": [],
   "source": [
    "def neighbors(iterable):\n",
    "    # Write generator function which yields \n",
    "    # previous, current and next values in iterable list.\n",
    "    # ... type your code here ...\n",
    "    iterable=iter(iterable)\n",
    "    prv = None\n",
    "    cur = next(iterable)\n",
    "    try:\n",
    "        while True:\n",
    "            nxt = next(iterable)\n",
    "            yield (prv, cur, nxt)\n",
    "            prv = cur\n",
    "            cur = nxt\n",
    "    except StopIteration:\n",
    "        yield (prv, cur, None)"
   ]
  },
  {
   "cell_type": "code",
   "execution_count": 3,
   "metadata": {},
   "outputs": [],
   "source": [
    "# Check if test passes\n",
    "def test_neighbors():\n",
    "    test_neighbors = neighbors( range(2) )\n",
    "    assert next(test_neighbors) == (None, 0, 1)\n",
    "\n",
    "test_neighbors()"
   ]
  },
  {
   "cell_type": "markdown",
   "metadata": {},
   "source": [
    "    2. Сгруппировать данные на уровне водителя таким образом, чтобы в одной строке находились все его записи со статусами и началом статуса списком:"
   ]
  },
  {
   "cell_type": "markdown",
   "metadata": {},
   "source": [
    "Формат исходной таблицы:\n",
    "<table>\n",
    "<tr><td>driver_id</td><td>status</td><td>dttm</td></tr>\n",
    "<tr><td>9f8f9bf3ee8f4874873288c246bd2d05</td><td>free</td><td>2018-02-04 00:19</td></tr>\n",
    "<tr><td>9f8f9bf3ee8f4874873288c246bd2d05</td><td>busy</td><td>2018-02-04 01:03</td></tr>\n",
    "<tr><td>8f174ffd446c456eaf3cca0915d0368d</td><td>free</td><td>2018-02-03 15:43</td></tr>\n",
    "<tr><td>8f174ffd446c456eaf3cca0915d0368d</td><td>enroute</td><td>2018-02-03 17:02</td></tr>\n",
    "<tr><td>...</td><td>...</td><td>...</td></tr>\n",
    "</table>"
   ]
  },
  {
   "cell_type": "markdown",
   "metadata": {},
   "source": [
    "Формат сгруппированной таблицы:\n",
    "<table>\n",
    "<tr><td>driver_id</td><td>driver_info</td></tr>\n",
    "<tr><td>9f8f9bf3ee8f4874873288c246bd2d05</td><td>[(\"free\", 2018-02-04 00:19), (\"busy\", 2018-02-04 01:03)]</td></tr>\n",
    "<tr><td>8f174ffd446c456eaf3cca0915d0368d</td><td>[(\"free\", 2018-02-03 15:43), (\"enroute\", 2018-02-03 17:02) ...]</td></tr>\n",
    "</table>"
   ]
  },
  {
   "cell_type": "code",
   "execution_count": 4,
   "metadata": {},
   "outputs": [],
   "source": [
    "df = pd.read_csv(\"dataset.csv\", parse_dates=[\"dttm\"])\n",
    "\n",
    "# Работать будем с Values\n",
    "status = df['status'].values\n",
    "dttm = df['dttm'].values\n",
    "\n",
    "# Создадим словарь, куда будем накапливать значения:\n",
    "driver_id_dict = {}\n",
    "for key, value in enumerate(df['driver_id']):\n",
    "    if value in driver_id_dict:\n",
    "        driver_id_dict[value] += [list(zip(status, dttm))[key]]\n",
    "    else:\n",
    "        driver_id_dict[value] = [list(zip(status, dttm))[key]]"
   ]
  },
  {
   "cell_type": "code",
   "execution_count": 5,
   "metadata": {},
   "outputs": [
    {
     "data": {
      "text/plain": [
       "8f174ffd446c456eaf3cca0915d0368d    [(free, 2018-02-18T20:51:22.620339000), (enrou...\n",
       "dc66190e523943f5a83bdd393587439c    [(free, 2018-02-18T20:02:47.620339000), (enrou...\n",
       "17833e71aa58494ea0cb0a53be840c4e    [(free, 2018-02-18T20:19:26.620339000), (enrou...\n",
       "63f6aaaf48844d1e83e9fc78716c601e    [(free, 2018-02-18T20:52:11.620339000), (enrou...\n",
       "78938964fed443cf85879cbf71c6ea56    [(free, 2018-02-18T20:08:57.620339000), (busy,...\n",
       "dtype: object"
      ]
     },
     "execution_count": 5,
     "metadata": {},
     "output_type": "execute_result"
    }
   ],
   "source": [
    "driver_info = pd.Series(driver_id_dict)\n",
    "driver_info.head()"
   ]
  },
  {
   "cell_type": "markdown",
   "metadata": {},
   "source": [
    "    3. Используя функцию neighbors, написать функцию, которая для каждой записи в списке driver_info посчитает ее длительность."
   ]
  },
  {
   "cell_type": "code",
   "execution_count": 6,
   "metadata": {},
   "outputs": [],
   "source": [
    "def calc_status_duration(data):\n",
    "    driver_info_updated = []\n",
    "    for counter, (status, time) in enumerate(data):\n",
    "        try:\n",
    "            time_delta = pd.to_datetime(data[counter+1][1]) - pd.to_datetime(data[counter][1])\n",
    "            time_delta = time_delta.total_seconds()\n",
    "            driver_info_updated.append(tuple((status, time, time_delta)))\n",
    "        except:\n",
    "            time_delta = None\n",
    "            driver_info_updated.append(tuple((status, time, time_delta)))\n",
    "            return driver_info_updated"
   ]
  },
  {
   "cell_type": "code",
   "execution_count": 7,
   "metadata": {},
   "outputs": [],
   "source": [
    "# Check if test passes\n",
    "def test_calc_status_duration():\n",
    "    sample_driver_info = [(\"free\", datetime(2018, 4, 2, 0, 19)), \n",
    "                          (\"busy\", datetime(2018, 4, 2, 1, 3)),]\n",
    "    sample_driver_info_updated = [('free', datetime(2018, 4, 2, 0, 19), 2640.0),\n",
    "                                  ('busy', datetime(2018, 4, 2, 1, 3), None),]\n",
    "    assert calc_status_duration(sample_driver_info) == sample_driver_info_updated\n",
    "\n",
    "test_calc_status_duration()"
   ]
  },
  {
   "cell_type": "code",
   "execution_count": 8,
   "metadata": {},
   "outputs": [],
   "source": [
    "for driver_id in driver_info.index:\n",
    "    driver_info[driver_id] = calc_status_duration(driver_info[driver_id])"
   ]
  },
  {
   "cell_type": "code",
   "execution_count": 9,
   "metadata": {},
   "outputs": [
    {
     "data": {
      "text/html": [
       "<div>\n",
       "<style scoped>\n",
       "    .dataframe tbody tr th:only-of-type {\n",
       "        vertical-align: middle;\n",
       "    }\n",
       "\n",
       "    .dataframe tbody tr th {\n",
       "        vertical-align: top;\n",
       "    }\n",
       "\n",
       "    .dataframe thead th {\n",
       "        text-align: right;\n",
       "    }\n",
       "</style>\n",
       "<table border=\"1\" class=\"dataframe\">\n",
       "  <thead>\n",
       "    <tr style=\"text-align: right;\">\n",
       "      <th></th>\n",
       "      <th>driver_info</th>\n",
       "    </tr>\n",
       "  </thead>\n",
       "  <tbody>\n",
       "    <tr>\n",
       "      <th>8f174ffd446c456eaf3cca0915d0368d</th>\n",
       "      <td>[(free, 2018-02-18T20:51:22.620339000, 1470.0)...</td>\n",
       "    </tr>\n",
       "    <tr>\n",
       "      <th>dc66190e523943f5a83bdd393587439c</th>\n",
       "      <td>[(free, 2018-02-18T20:02:47.620339000, 5126.0)...</td>\n",
       "    </tr>\n",
       "    <tr>\n",
       "      <th>17833e71aa58494ea0cb0a53be840c4e</th>\n",
       "      <td>[(free, 2018-02-18T20:19:26.620339000, 4884.0)...</td>\n",
       "    </tr>\n",
       "    <tr>\n",
       "      <th>63f6aaaf48844d1e83e9fc78716c601e</th>\n",
       "      <td>[(free, 2018-02-18T20:52:11.620339000, 700.0),...</td>\n",
       "    </tr>\n",
       "    <tr>\n",
       "      <th>78938964fed443cf85879cbf71c6ea56</th>\n",
       "      <td>[(free, 2018-02-18T20:08:57.620339000, 674.0),...</td>\n",
       "    </tr>\n",
       "  </tbody>\n",
       "</table>\n",
       "</div>"
      ],
      "text/plain": [
       "                                                                        driver_info\n",
       "8f174ffd446c456eaf3cca0915d0368d  [(free, 2018-02-18T20:51:22.620339000, 1470.0)...\n",
       "dc66190e523943f5a83bdd393587439c  [(free, 2018-02-18T20:02:47.620339000, 5126.0)...\n",
       "17833e71aa58494ea0cb0a53be840c4e  [(free, 2018-02-18T20:19:26.620339000, 4884.0)...\n",
       "63f6aaaf48844d1e83e9fc78716c601e  [(free, 2018-02-18T20:52:11.620339000, 700.0),...\n",
       "78938964fed443cf85879cbf71c6ea56  [(free, 2018-02-18T20:08:57.620339000, 674.0),..."
      ]
     },
     "execution_count": 9,
     "metadata": {},
     "output_type": "execute_result"
    }
   ],
   "source": [
    "# Переведем данные в DataFrame:\n",
    "df = driver_info.to_frame()\n",
    "df.columns = ['driver_info']\n",
    "df.head()\n"
   ]
  },
  {
   "cell_type": "markdown",
   "metadata": {},
   "source": [
    "    4. Используя функцию neighbors, написать функцию, которая сформирует из списка driver_info список поездок с информацией о длительности поездки и эффективности (duration_ontrip, efficiency)."
   ]
  },
  {
   "cell_type": "code",
   "execution_count": 12,
   "metadata": {},
   "outputs": [],
   "source": [
    "TIMEOUT = 1600\n",
    "def collapse_statuses(driver_info):\n",
    "    trips = list()\n",
    "    for i, j, k in neighbors(driver_info):\n",
    "        try:            \n",
    "            if i[0] == 'free': \n",
    "                new_trip = [0,0,0]\n",
    "                \n",
    "                if k[0] == 'free':\n",
    "                    global free\n",
    "                    free = 0\n",
    "                    if j[0] == 'busy':\n",
    "                        if j[2] < TIMEOUT:\n",
    "                            free += i[2]\n",
    "                            #print(i[2])\n",
    "                            continue\n",
    "                        else:\n",
    "                            continue\n",
    "                        \n",
    "                    if j[0] == 'enroute':\n",
    "                        if j[2] < TIMEOUT:\n",
    "                            free += i[2]\n",
    "                            #print(i[2])\n",
    "                            continue\n",
    "                        else:\n",
    "                            continue          \n",
    "            \n",
    "                if k[0] == 'ontrip':\n",
    "                    new_trip[0] += k[2]\n",
    "                    new_trip[1] += j[2]\n",
    "                    new_trip[2] += i[2]\n",
    "            \n",
    "                    \n",
    "                    new_trip[2] += free\n",
    "                    free = 0\n",
    "            \n",
    "                    #Ontrip = new_trip[0]\n",
    "                    #Enroute = new_trip[1]\n",
    "                    #Free2 = new_trip[2]\n",
    "            \n",
    "                duration_ontrip = new_trip[0]\n",
    "                efficiency = new_trip[0] / (new_trip[0] + new_trip[1] + new_trip[2])\n",
    "                \n",
    "                trips.append((duration_ontrip, efficiency))\n",
    "\n",
    "        except TypeError:\n",
    "            continue  \n",
    "            \n",
    "    return trips\n",
    "       "
   ]
  },
  {
   "cell_type": "code",
   "execution_count": 13,
   "metadata": {},
   "outputs": [],
   "source": [
    "df[\"driver_info\"] = df.driver_info.apply(collapse_statuses)"
   ]
  },
  {
   "cell_type": "markdown",
   "metadata": {},
   "source": [
    "    5. Нарисовать и проинтерпретировать зависимость между длительностью поездки и эффективностью.\n",
    "    Подсказка: требуется сделать обратное преобразование из таблицы со строками на уровне водителя в таблицу со строками на уровне поездки."
   ]
  },
  {
   "cell_type": "code",
   "execution_count": 14,
   "metadata": {},
   "outputs": [],
   "source": [
    "driver_id = []\n",
    "duration_ontrip = []\n",
    "efficiency = []\n",
    "\n",
    "for i in df.index:\n",
    "    for (x, y) in df.loc[i][0]:\n",
    "        driver_id.append(i)\n",
    "        duration_ontrip.append(x)\n",
    "        efficiency.append(y)"
   ]
  },
  {
   "cell_type": "code",
   "execution_count": 15,
   "metadata": {},
   "outputs": [
    {
     "data": {
      "text/html": [
       "<div>\n",
       "<style scoped>\n",
       "    .dataframe tbody tr th:only-of-type {\n",
       "        vertical-align: middle;\n",
       "    }\n",
       "\n",
       "    .dataframe tbody tr th {\n",
       "        vertical-align: top;\n",
       "    }\n",
       "\n",
       "    .dataframe thead th {\n",
       "        text-align: right;\n",
       "    }\n",
       "</style>\n",
       "<table border=\"1\" class=\"dataframe\">\n",
       "  <thead>\n",
       "    <tr style=\"text-align: right;\">\n",
       "      <th></th>\n",
       "      <th>driver_id</th>\n",
       "      <th>duration_ontrip</th>\n",
       "      <th>efficiency</th>\n",
       "    </tr>\n",
       "  </thead>\n",
       "  <tbody>\n",
       "    <tr>\n",
       "      <th>0</th>\n",
       "      <td>8f174ffd446c456eaf3cca0915d0368d</td>\n",
       "      <td>1664.0</td>\n",
       "      <td>0.195099</td>\n",
       "    </tr>\n",
       "    <tr>\n",
       "      <th>1</th>\n",
       "      <td>8f174ffd446c456eaf3cca0915d0368d</td>\n",
       "      <td>3408.0</td>\n",
       "      <td>0.305322</td>\n",
       "    </tr>\n",
       "    <tr>\n",
       "      <th>2</th>\n",
       "      <td>8f174ffd446c456eaf3cca0915d0368d</td>\n",
       "      <td>5909.0</td>\n",
       "      <td>0.426458</td>\n",
       "    </tr>\n",
       "    <tr>\n",
       "      <th>3</th>\n",
       "      <td>8f174ffd446c456eaf3cca0915d0368d</td>\n",
       "      <td>113.0</td>\n",
       "      <td>0.027262</td>\n",
       "    </tr>\n",
       "    <tr>\n",
       "      <th>4</th>\n",
       "      <td>8f174ffd446c456eaf3cca0915d0368d</td>\n",
       "      <td>1987.0</td>\n",
       "      <td>0.261275</td>\n",
       "    </tr>\n",
       "  </tbody>\n",
       "</table>\n",
       "</div>"
      ],
      "text/plain": [
       "                          driver_id  duration_ontrip  efficiency\n",
       "0  8f174ffd446c456eaf3cca0915d0368d           1664.0    0.195099\n",
       "1  8f174ffd446c456eaf3cca0915d0368d           3408.0    0.305322\n",
       "2  8f174ffd446c456eaf3cca0915d0368d           5909.0    0.426458\n",
       "3  8f174ffd446c456eaf3cca0915d0368d            113.0    0.027262\n",
       "4  8f174ffd446c456eaf3cca0915d0368d           1987.0    0.261275"
      ]
     },
     "execution_count": 15,
     "metadata": {},
     "output_type": "execute_result"
    }
   ],
   "source": [
    "trips_df = pd.DataFrame({'driver_id': driver_id, 'duration_ontrip': duration_ontrip, 'efficiency': efficiency})\n",
    "trips_df.head()"
   ]
  },
  {
   "cell_type": "code",
   "execution_count": 16,
   "metadata": {},
   "outputs": [
    {
     "data": {
      "text/plain": [
       "<matplotlib.axes._subplots.AxesSubplot at 0x7fd19c278710>"
      ]
     },
     "execution_count": 16,
     "metadata": {},
     "output_type": "execute_result"
    },
    {
     "data": {
      "image/png": "[encoded data removed]",
      "text/plain": [
       "<Figure size 432x288 with 1 Axes>"
      ]
     },
     "metadata": {
      "needs_background": "light"
     },
     "output_type": "display_data"
    }
   ],
   "source": [
    "import seaborn as sns\n",
    "sns.regplot(x = 'duration_ontrip', y = 'efficiency', data = trips_df )"
   ]
  },
  {
   "cell_type": "code",
   "execution_count": 17,
   "metadata": {},
   "outputs": [
    {
     "data": {
      "text/plain": [
       "0.7644445610503595"
      ]
     },
     "execution_count": 17,
     "metadata": {},
     "output_type": "execute_result"
    }
   ],
   "source": [
    "trips_df['duration_ontrip'].corr(trips_df['efficiency'])"
   ]
  },
  {
   "cell_type": "markdown",
   "metadata": {},
   "source": [
    "**Вывод:** чем больше длительность поездки, тем болье ее эффективность"
   ]
  },
  {
   "cell_type": "code",
   "execution_count": null,
   "metadata": {},
   "outputs": [],
   "source": []
  }
 ],
 "metadata": {
  "kernelspec": {
   "display_name": "Python 3",
   "language": "python",
   "name": "python3"
  },
  "language_info": {
   "codemirror_mode": {
    "name": "ipython",
    "version": 3
   },
   "file_extension": ".py",
   "mimetype": "text/x-python",
   "name": "python",
   "nbconvert_exporter": "python",
   "pygments_lexer": "ipython3",
   "version": "3.6.8"
  }
 },
 "nbformat": 4,
 "nbformat_minor": 2
}
