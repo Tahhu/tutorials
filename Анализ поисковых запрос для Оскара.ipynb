{
 "cells": [
  {
   "cell_type": "code",
   "execution_count": 1,
   "metadata": {},
   "outputs": [],
   "source": [
    "import pandas as pd\n",
    "import numpy as np\n",
    "from datetime import datetime, timezone\n",
    "import matplotlib.pyplot as plt\n",
    "%matplotlib inline"
   ]
  },
  {
   "cell_type": "code",
   "execution_count": null,
   "metadata": {},
   "outputs": [],
   "source": [
    "# Слишком большой файл загрузим по кусочкам\n",
    "df2 = pd.DataFrame({'normal_query': list(), 'datetime': list()})\n",
    "chunksize = 1000000\n",
    "for chunk in pd.read_csv('oscar', chunksize=chunksize, skiprows=0, delimiter='\\t', encoding='utf_8', error_bad_lines=False):\n",
    "    try:\n",
    "        df2 = pd.concat([df2, chunk])\n",
    "    except UnicodeDecodeError:\n",
    "        continue"
   ]
  },
  {
   "cell_type": "markdown",
   "metadata": {},
   "source": [
    "Найдем все запросы со словом \"Оскар\" и сохраним в отдельный датафрейм."
   ]
  },
  {
   "cell_type": "code",
   "execution_count": 7,
   "metadata": {},
   "outputs": [],
   "source": [
    "df2 = df2.dropna()\n",
    "oscar = df2[df2['normal_query'].str.contains('оскар', case = False)]"
   ]
  },
  {
   "cell_type": "code",
   "execution_count": 14,
   "metadata": {},
   "outputs": [
    {
     "name": "stderr",
     "output_type": "stream",
     "text": [
      "/home/tahhu/anaconda3/lib/python3.6/site-packages/ipykernel_launcher.py:1: SettingWithCopyWarning: \n",
      "A value is trying to be set on a copy of a slice from a DataFrame.\n",
      "Try using .loc[row_indexer,col_indexer] = value instead\n",
      "\n",
      "See the caveats in the documentation: http://pandas.pydata.org/pandas-docs/stable/indexing.html#indexing-view-versus-copy\n",
      "  \"\"\"Entry point for launching an IPython kernel.\n"
     ]
    }
   ],
   "source": [
    "oscar['datetime'] = pd.to_datetime(oscar['datetime']) "
   ]
  },
  {
   "cell_type": "markdown",
   "metadata": {},
   "source": [
    "Разобьем получившийся датафрейм по времени на 3 части - до проведения Оскара, во время проведения и после проведения. \n",
    "В этом году Оскар прохододил в ночь с 24 на 25 февраля в Калифорнии, следовательно в России это уже было 25 февраля 2019."
   ]
  },
  {
   "cell_type": "code",
   "execution_count": 17,
   "metadata": {},
   "outputs": [
    {
     "data": {
      "text/plain": [
       "(Timestamp('2019-01-22 00:48:26'), Timestamp('2019-02-24 22:08:08'))"
      ]
     },
     "execution_count": 17,
     "metadata": {},
     "output_type": "execute_result"
    }
   ],
   "source": [
    "# Запросы до проведения Оскара\n",
    "oscar_before = oscar[oscar['datetime']  < datetime(2019, 2, 25)]\n",
    "oscar_before['datetime'].min(), oscar_before['datetime'].max()"
   ]
  },
  {
   "cell_type": "code",
   "execution_count": 18,
   "metadata": {},
   "outputs": [
    {
     "data": {
      "text/plain": [
       "(Timestamp('2019-02-26 00:19:36'), Timestamp('2019-02-28 21:22:59'))"
      ]
     },
     "execution_count": 18,
     "metadata": {},
     "output_type": "execute_result"
    }
   ],
   "source": [
    "# Запросы после проведения Оскара\n",
    "oscar_after = oscar[oscar['datetime']  > datetime(2019, 2, 26)]\n",
    "oscar_after['datetime'].min(), oscar_after['datetime'].max()"
   ]
  },
  {
   "cell_type": "code",
   "execution_count": 19,
   "metadata": {},
   "outputs": [
    {
     "data": {
      "text/plain": [
       "(Timestamp('2019-02-25 04:58:54'), Timestamp('2019-02-25 22:36:27'))"
      ]
     },
     "execution_count": 19,
     "metadata": {},
     "output_type": "execute_result"
    }
   ],
   "source": [
    "# Запросы во время проведения Оскара\n",
    "oscar_during = oscar[(oscar['datetime']  < datetime(2019, 2, 26)) & (oscar['datetime']  > datetime(2019, 2, 25))]\n",
    "oscar_during['datetime'].min(), oscar_during['datetime'].max()"
   ]
  },
  {
   "cell_type": "code",
   "execution_count": 20,
   "metadata": {},
   "outputs": [],
   "source": [
    "# Импортируем библиотеки\n",
    "from sklearn.feature_extraction.text import CountVectorizer"
   ]
  },
  {
   "cell_type": "markdown",
   "metadata": {},
   "source": [
    "## До проведения Оскара"
   ]
  },
  {
   "cell_type": "markdown",
   "metadata": {},
   "source": [
    "### Подсчет количества токенов в словаре"
   ]
  },
  {
   "cell_type": "code",
   "execution_count": 26,
   "metadata": {},
   "outputs": [],
   "source": [
    "texts_before = list(oscar_before['normal_query'].values)"
   ]
  },
  {
   "cell_type": "code",
   "execution_count": 124,
   "metadata": {},
   "outputs": [],
   "source": [
    "# при помощи token_pattern удалим все предлоги (слова меньше 3 букв) и будем использовать слова, которые появляются чаще 2 раз\n",
    "count_vectorizer_before = CountVectorizer(min_df=2, ngram_range=(1,3), token_pattern=r'(?u)\\b\\w\\w\\w+\\b')\n",
    "X_before = count_vectorizer_before.fit_transform(texts_before)"
   ]
  },
  {
   "cell_type": "code",
   "execution_count": 125,
   "metadata": {},
   "outputs": [
    {
     "data": {
      "text/html": [
       "<div>\n",
       "<style scoped>\n",
       "    .dataframe tbody tr th:only-of-type {\n",
       "        vertical-align: middle;\n",
       "    }\n",
       "\n",
       "    .dataframe tbody tr th {\n",
       "        vertical-align: top;\n",
       "    }\n",
       "\n",
       "    .dataframe thead th {\n",
       "        text-align: right;\n",
       "    }\n",
       "</style>\n",
       "<table border=\"1\" class=\"dataframe\">\n",
       "  <thead>\n",
       "    <tr style=\"text-align: right;\">\n",
       "      <th></th>\n",
       "      <th>tokens</th>\n",
       "      <th>frequency</th>\n",
       "    </tr>\n",
       "  </thead>\n",
       "  <tbody>\n",
       "    <tr>\n",
       "      <th>183</th>\n",
       "      <td>оскар</td>\n",
       "      <td>400</td>\n",
       "    </tr>\n",
       "    <tr>\n",
       "      <th>10</th>\n",
       "      <td>2019</td>\n",
       "      <td>119</td>\n",
       "    </tr>\n",
       "    <tr>\n",
       "      <th>191</th>\n",
       "      <td>оскар 2019</td>\n",
       "      <td>114</td>\n",
       "    </tr>\n",
       "    <tr>\n",
       "      <th>160</th>\n",
       "      <td>номинанты</td>\n",
       "      <td>51</td>\n",
       "    </tr>\n",
       "    <tr>\n",
       "      <th>329</th>\n",
       "      <td>фильм</td>\n",
       "      <td>33</td>\n",
       "    </tr>\n",
       "  </tbody>\n",
       "</table>\n",
       "</div>"
      ],
      "text/plain": [
       "         tokens  frequency\n",
       "183       оскар        400\n",
       "10         2019        119\n",
       "191  оскар 2019        114\n",
       "160   номинанты         51\n",
       "329       фильм         33"
      ]
     },
     "execution_count": 125,
     "metadata": {},
     "output_type": "execute_result"
    }
   ],
   "source": [
    "# Сделаем таблицу, где покажем чатстоту появления в запроск каждого токена\n",
    "words_freq_before = pd.DataFrame({'tokens': count_vectorizer_before.get_feature_names(), 'frequency': X_before.toarray().sum(axis = 0)})\n",
    "words_freq_before = words_freq_before.sort_values(by =  'frequency', ascending=False)\n",
    "words_freq_before.head()"
   ]
  },
  {
   "cell_type": "code",
   "execution_count": 126,
   "metadata": {},
   "outputs": [],
   "source": [
    "# Выберем только те запросы, которые встречаются больше 10 раз\n",
    "more_then_10 = words_freq_before['frequency'] >10"
   ]
  },
  {
   "cell_type": "code",
   "execution_count": 127,
   "metadata": {},
   "outputs": [
    {
     "data": {
      "text/plain": [
       "Text(0.5, 1.0, 'Запросы до Оскара')"
      ]
     },
     "execution_count": 127,
     "metadata": {},
     "output_type": "execute_result"
    },
    {
     "data": {
      "image/png": "[encoded data removed]",
      "text/plain": [
       "<Figure size 720x576 with 1 Axes>"
      ]
     },
     "metadata": {
      "needs_background": "light"
     },
     "output_type": "display_data"
    }
   ],
   "source": [
    "#vect.vocabulary_.values()\n",
    "plt.figure(figsize=(10, 8))\n",
    "objects = list(words_freq_before.loc[more_then_10, 'tokens'])\n",
    "y_pos = np.arange(len(objects))\n",
    "performance = list(words_freq_before.loc[more_then_10, 'frequency'])\n",
    "\n",
    "plt.barh(y_pos, performance, align='center', alpha=0.5)\n",
    "plt.yticks(y_pos, objects)\n",
    "plt.ylabel('Количество')\n",
    "plt.title('Запросы до Оскара')"
   ]
  },
  {
   "cell_type": "markdown",
   "metadata": {},
   "source": [
    "### K-Means"
   ]
  },
  {
   "cell_type": "code",
   "execution_count": 128,
   "metadata": {},
   "outputs": [],
   "source": [
    "from sklearn.cluster import KMeans"
   ]
  },
  {
   "cell_type": "code",
   "execution_count": 132,
   "metadata": {},
   "outputs": [],
   "source": [
    "tfidf_kmeans = TfidfVectorizer(min_df=2, ngram_range=(1,3), token_pattern=r'(?u)\\b\\w\\w\\w+\\b') \n",
    "X_before = tfidf_kmeans.fit_transform(texts_before)"
   ]
  },
  {
   "cell_type": "code",
   "execution_count": 133,
   "metadata": {},
   "outputs": [],
   "source": [
    "# Посмотрим, сколько кластеров предложит Kmeans\n",
    "inertias = []\n",
    "ks = range(1, 10)\n",
    "\n",
    "for k in ks:\n",
    "    model = KMeans(n_clusters=k, init='k-means++')\n",
    "    model.fit(X_before)\n",
    "    inertias.append(model.inertia_)"
   ]
  },
  {
   "cell_type": "code",
   "execution_count": 134,
   "metadata": {},
   "outputs": [
    {
     "data": {
      "text/plain": [
       "Text(0.5, 1.0, 'Метод локтя для K-Means')"
      ]
     },
     "execution_count": 134,
     "metadata": {},
     "output_type": "execute_result"
    },
    {
     "data": {
      "image/png": "[encoded data removed]",
      "text/plain": [
       "<Figure size 432x288 with 1 Axes>"
      ]
     },
     "metadata": {
      "needs_background": "light"
     },
     "output_type": "display_data"
    }
   ],
   "source": [
    "plt.plot(ks,inertias )\n",
    "plt.ylabel('Значение inertia')\n",
    "plt.xlabel('Количество кластеров')\n",
    "plt.title('Метод локтя для K-Means')"
   ]
  },
  {
   "cell_type": "markdown",
   "metadata": {},
   "source": [
    "**Вывод:** Kmeans указывает на 3 кластера."
   ]
  },
  {
   "cell_type": "code",
   "execution_count": 137,
   "metadata": {},
   "outputs": [
    {
     "data": {
      "text/plain": [
       "KMeans(algorithm='auto', copy_x=True, init='k-means++', max_iter=300,\n",
       "    n_clusters=3, n_init=10, n_jobs=None, precompute_distances='auto',\n",
       "    random_state=None, tol=0.0001, verbose=0)"
      ]
     },
     "execution_count": 137,
     "metadata": {},
     "output_type": "execute_result"
    }
   ],
   "source": [
    "# разобьем запросы на кластеры\n",
    "true_k = 3\n",
    "model = KMeans(n_clusters=true_k, init='k-means++')\n",
    "model.fit(X_before)"
   ]
  },
  {
   "cell_type": "code",
   "execution_count": 139,
   "metadata": {},
   "outputs": [
    {
     "name": "stdout",
     "output_type": "stream",
     "text": [
      "Кластер 0:\n",
      " оскар 2019\n",
      " 2019\n",
      " оскар\n",
      " номинанты\n",
      " номинанты оскар 2019\n",
      " номинанты оскар\n",
      " 2019 номинанты\n",
      " оскар 2019 номинанты\n",
      " премия оскар 2019\n",
      " премия оскар\n",
      "\n",
      "Кластер 1:\n",
      " оскар\n",
      " оскара\n",
      " фильм\n",
      " оскар уайльд\n",
      " уайльд\n",
      " фильмы\n",
      " 2018\n",
      " оскар 2018\n",
      " порно\n",
      " скачать\n",
      "\n",
      "Кластер 2:\n",
      " оскар\n",
      " что\n",
      " либо\n",
      " кучера личная\n",
      " кучера личная жизнь\n",
      " лауреат\n",
      " лауреат оскара\n",
      " лауреат оскара джефф\n",
      " лауреаты\n",
      " лауреаты оскара\n",
      "\n"
     ]
    }
   ],
   "source": [
    "\n",
    "order_centroids = model.cluster_centers_.argsort()[:, ::-1]\n",
    "terms = tfidf_kmeans.get_feature_names()\n",
    "for i in range(true_k):\n",
    "    print(\"Кластер %d:\" % i),\n",
    "    for ind in order_centroids[i, :10]:\n",
    "        print(' %s' % terms[ind]),\n",
    "    print()\n",
    "    "
   ]
  },
  {
   "cell_type": "markdown",
   "metadata": {},
   "source": [
    "**Вывод:** Метод KMeans выделяет запросы про номинантов на Оскар и известных людей с именем Оскар."
   ]
  },
  {
   "cell_type": "markdown",
   "metadata": {},
   "source": [
    "### NMF"
   ]
  },
  {
   "cell_type": "code",
   "execution_count": 73,
   "metadata": {},
   "outputs": [],
   "source": [
    "from sklearn.feature_extraction.text import TfidfVectorizer\n",
    "from sklearn.decomposition import NMF"
   ]
  },
  {
   "cell_type": "code",
   "execution_count": 175,
   "metadata": {},
   "outputs": [],
   "source": [
    "# преобразовываем текст в матрицу взвешенных терминов-документов tf-idf\n",
    "vectorizer = TfidfVectorizer(ngram_range=(1,3),token_pattern=r'(?u)\\b\\w\\w\\w+\\b' )\n",
    "X = vectorizer.fit_transform(texts_before)\n",
    " \n",
    "idx_to_word = np.array(vectorizer.get_feature_names())"
   ]
  },
  {
   "cell_type": "code",
   "execution_count": 176,
   "metadata": {},
   "outputs": [],
   "source": [
    "# применяем NMF\n",
    "nmf = NMF(n_components=20, solver=\"mu\")\n",
    "W = nmf.fit_transform(X) \n",
    "H = nmf.components_"
   ]
  },
  {
   "cell_type": "code",
   "execution_count": 177,
   "metadata": {},
   "outputs": [
    {
     "name": "stdout",
     "output_type": "stream",
     "text": [
      "Topic 1: 2019 победители,порно оскар 2019,оскар,2019,оскар 2019\n",
      "Topic 2: хойя,оскар хойя,оскар хартманн,хартманн,оскар\n",
      "Topic 3: номинанты оскар 2018,оскар,номинанты,номинанты оскар 2019,номинанты оскар\n",
      "Topic 4: номинанты победители,2019 номинанты победители,номинанты,2019 номинанты,оскар 2019 номинанты\n",
      "Topic 5: оскар 2019 дата,дата,премия оскар 2019,премия оскар,премия\n",
      "Topic 6: все победители,2019 все,порно оскар 2019,порно,порно оскар\n",
      "Topic 7: оскар уайльд излишества,уайльд излишества,читать,оскар уайльд,уайльд\n",
      "Topic 8: фильмы оскар,фильмы,фильмы оскар 2018,2018,оскар 2018\n",
      "Topic 9: фильмы получившие оскар,фильмы получившие,фильмы,получившие оскар,получившие\n",
      "Topic 10: залесский,переславль залесский,оскар переславль залесский,переславль,оскар переславль\n",
      "Topic 11: оскара лучший,оскара,лучший фильм,лучший,фильм\n",
      "Topic 12: будет,когда будет,оскар 2019 когда,2019 когда,когда\n",
      "Topic 13: кинотеатр,оскар кинотеатр,кинотеатр саратов,оскар кинотеатр саратов,саратов\n",
      "Topic 14: номинации,номинации оскар,2019 список,оскар 2019 список,список\n",
      "Topic 15: премию оскар 2019,номинанты премию,номинанты премию оскар,премию оскар,премию\n",
      "Topic 16: джефф букв,лауреат оскара джефф,букв,оскара джефф букв,оскара\n",
      "Topic 17: все мультфильмов,которые,все,ivi,оскар ivi\n",
      "Topic 18: владимир,оскарович,оскар певец,певец оскар,певец\n",
      "Topic 19: википедия оскар 2019,оскар ренкель,ренкель,оскар википедия,википедия\n",
      "Topic 20: ножа оскар,острию,острию ножа,острию ножа оскар,ножа\n"
     ]
    }
   ],
   "source": [
    "# print the topics \n",
    "for i, topic in enumerate(H): \n",
    "    print(\"Topic {}: {}\".format(i + 1, \",\".join([str(x) for x in idx_to_word[topic.argsort()[-5:]]])))"
   ]
  },
  {
   "cell_type": "markdown",
   "metadata": {},
   "source": [
    "**Вывод:** Метод NMF выделяет запросы:\n",
    "1. о дате проведения Оскара;\n",
    "2. про известных людей с именем Оскар;\n",
    "3. номинантов и победителей премии Оскар;\n",
    "4. запросы про фильмы и победителей прошлого года;\n",
    "5. лучшие фильмы, получившие Оскар."
   ]
  },
  {
   "cell_type": "markdown",
   "metadata": {},
   "source": [
    "## Во время проведения Оскара"
   ]
  },
  {
   "cell_type": "markdown",
   "metadata": {},
   "source": [
    "### Подсчет количества токенов в словаре"
   ]
  },
  {
   "cell_type": "code",
   "execution_count": 80,
   "metadata": {},
   "outputs": [],
   "source": [
    "texts_during = list(oscar_during['normal_query'].values)"
   ]
  },
  {
   "cell_type": "code",
   "execution_count": 85,
   "metadata": {},
   "outputs": [],
   "source": [
    "# при помощи token_pattern удалим все предлоги (слова меньше 3 букв) и будем использовать слова, которые появляются чаще 2 раз\n",
    "count_vectorizer_during = CountVectorizer(min_df=2, ngram_range=(1,3), token_pattern=r'(?u)\\b\\w\\w\\w+\\b')\n",
    "X_during = count_vectorizer_during.fit_transform(texts_during)"
   ]
  },
  {
   "cell_type": "code",
   "execution_count": 86,
   "metadata": {},
   "outputs": [
    {
     "data": {
      "text/html": [
       "<div>\n",
       "<style scoped>\n",
       "    .dataframe tbody tr th:only-of-type {\n",
       "        vertical-align: middle;\n",
       "    }\n",
       "\n",
       "    .dataframe tbody tr th {\n",
       "        vertical-align: top;\n",
       "    }\n",
       "\n",
       "    .dataframe thead th {\n",
       "        text-align: right;\n",
       "    }\n",
       "</style>\n",
       "<table border=\"1\" class=\"dataframe\">\n",
       "  <thead>\n",
       "    <tr style=\"text-align: right;\">\n",
       "      <th></th>\n",
       "      <th>tokens</th>\n",
       "      <th>frequency</th>\n",
       "    </tr>\n",
       "  </thead>\n",
       "  <tbody>\n",
       "    <tr>\n",
       "      <th>82</th>\n",
       "      <td>оскар</td>\n",
       "      <td>176</td>\n",
       "    </tr>\n",
       "    <tr>\n",
       "      <th>1</th>\n",
       "      <td>2019</td>\n",
       "      <td>144</td>\n",
       "    </tr>\n",
       "    <tr>\n",
       "      <th>84</th>\n",
       "      <td>оскар 2019</td>\n",
       "      <td>123</td>\n",
       "    </tr>\n",
       "    <tr>\n",
       "      <th>144</th>\n",
       "      <td>трансляция</td>\n",
       "      <td>17</td>\n",
       "    </tr>\n",
       "    <tr>\n",
       "      <th>108</th>\n",
       "      <td>победители</td>\n",
       "      <td>15</td>\n",
       "    </tr>\n",
       "  </tbody>\n",
       "</table>\n",
       "</div>"
      ],
      "text/plain": [
       "         tokens  frequency\n",
       "82        оскар        176\n",
       "1          2019        144\n",
       "84   оскар 2019        123\n",
       "144  трансляция         17\n",
       "108  победители         15"
      ]
     },
     "execution_count": 86,
     "metadata": {},
     "output_type": "execute_result"
    }
   ],
   "source": [
    "# Сделаем таблицу, где покажем чатстоту появления в запроск каждого токена\n",
    "words_freq_during = pd.DataFrame({'tokens': count_vectorizer_during.get_feature_names(), 'frequency': X_during.toarray().sum(axis = 0)})\n",
    "words_freq_during = words_freq_during.sort_values(by =  'frequency', ascending=False)\n",
    "words_freq_during.head()"
   ]
  },
  {
   "cell_type": "code",
   "execution_count": 102,
   "metadata": {},
   "outputs": [],
   "source": [
    "# Выберем только те запросы, которые встречаются больше 10 раз\n",
    "more_then_3 = words_freq_during['frequency'] >3"
   ]
  },
  {
   "cell_type": "code",
   "execution_count": 107,
   "metadata": {},
   "outputs": [
    {
     "data": {
      "text/plain": [
       "Text(0.5, 1.0, 'Во время проведения Оскара')"
      ]
     },
     "execution_count": 107,
     "metadata": {},
     "output_type": "execute_result"
    },
    {
     "data": {
      "image/png": "[encoded data removed]",
      "text/plain": [
       "<Figure size 864x720 with 1 Axes>"
      ]
     },
     "metadata": {
      "needs_background": "light"
     },
     "output_type": "display_data"
    }
   ],
   "source": [
    "#vect.vocabulary_.values()\n",
    "plt.figure(figsize=(12, 10))\n",
    "objects = list(words_freq_during.loc[more_then_3, 'tokens'])\n",
    "y_pos = np.arange(len(objects))\n",
    "performance = list(words_freq_during.loc[more_then_3, 'frequency'])\n",
    "\n",
    "plt.barh(y_pos, performance, align='center', alpha=0.5)\n",
    "plt.yticks(y_pos, objects)\n",
    "plt.ylabel('Количество')\n",
    "plt.title('Во время проведения Оскара')"
   ]
  },
  {
   "cell_type": "markdown",
   "metadata": {},
   "source": [
    "**Вывод:** простой подсчет количества токенов в словаре выделяет запросы:\n",
    "        1. трансляция,\n",
    "        2. победили (видимо, имеются в виду уже объявленные победели)."
   ]
  },
  {
   "cell_type": "markdown",
   "metadata": {},
   "source": [
    "### K-Means"
   ]
  },
  {
   "cell_type": "code",
   "execution_count": 144,
   "metadata": {},
   "outputs": [],
   "source": [
    "tfidf_during = TfidfVectorizer(min_df=2, ngram_range=(1,3), token_pattern=r'(?u)\\b\\w\\w\\w+\\b') \n",
    "X_during_means = tfidf_during.fit_transform(texts_during)"
   ]
  },
  {
   "cell_type": "code",
   "execution_count": 145,
   "metadata": {},
   "outputs": [],
   "source": [
    "# Посмотрим, сколько кластеров предложит Kmeans\n",
    "inertias = []\n",
    "ks = range(1, 10)\n",
    "\n",
    "for k in ks:\n",
    "    model = KMeans(n_clusters=k, init='k-means++')\n",
    "    model.fit(X_during_means)\n",
    "    inertias.append(model.inertia_)"
   ]
  },
  {
   "cell_type": "code",
   "execution_count": 146,
   "metadata": {},
   "outputs": [
    {
     "data": {
      "text/plain": [
       "Text(0.5, 1.0, 'Метод локтя для K-Means')"
      ]
     },
     "execution_count": 146,
     "metadata": {},
     "output_type": "execute_result"
    },
    {
     "data": {
      "image/png": "[encoded data removed]",
      "text/plain": [
       "<Figure size 432x288 with 1 Axes>"
      ]
     },
     "metadata": {
      "needs_background": "light"
     },
     "output_type": "display_data"
    }
   ],
   "source": [
    "plt.plot(ks,inertias )\n",
    "plt.ylabel('значение inertia')\n",
    "plt.xlabel('Количество кластеров')\n",
    "plt.title('Метод локтя для K-Means')"
   ]
  },
  {
   "cell_type": "markdown",
   "metadata": {},
   "source": [
    "**Вывод:** K-Means выделяет 2 кластера. "
   ]
  },
  {
   "cell_type": "code",
   "execution_count": 148,
   "metadata": {},
   "outputs": [
    {
     "data": {
      "text/plain": [
       "KMeans(algorithm='auto', copy_x=True, init='k-means++', max_iter=300,\n",
       "    n_clusters=2, n_init=10, n_jobs=None, precompute_distances='auto',\n",
       "    random_state=None, tol=0.0001, verbose=0)"
      ]
     },
     "execution_count": 148,
     "metadata": {},
     "output_type": "execute_result"
    }
   ],
   "source": [
    "# разобьем запросы на кластеры\n",
    "true_k = 2\n",
    "model = KMeans(n_clusters=true_k, init='k-means++')\n",
    "model.fit(X_during)"
   ]
  },
  {
   "cell_type": "code",
   "execution_count": 149,
   "metadata": {},
   "outputs": [
    {
     "name": "stdout",
     "output_type": "stream",
     "text": [
      "Кластер 0:\n",
      " оскар\n",
      " 2019\n",
      " оскар 2019\n",
      " трансляция\n",
      " победители\n",
      " прямая трансляция\n",
      " прямая\n",
      " 2019 прямая трансляция\n",
      " 2019 прямая\n",
      " кто\n",
      "\n",
      "Кластер 1:\n",
      " оскар\n",
      " 2019\n",
      " оскара\n",
      " оскара 2019\n",
      " малек\n",
      " рами\n",
      " рами малек\n",
      " вручение\n",
      " оскаре\n",
      " вручение оскара\n",
      "\n"
     ]
    }
   ],
   "source": [
    "order_centroids = model.cluster_centers_.argsort()[:, ::-1]\n",
    "terms = terms = tfidf_during.get_feature_names()\n",
    "for i in range(true_k):\n",
    "    print(\"Кластер %d:\" % i),\n",
    "    for ind in order_centroids[i, :10]:\n",
    "        print(' %s' % terms[ind]),\n",
    "    print()\n",
    "    "
   ]
  },
  {
   "cell_type": "markdown",
   "metadata": {},
   "source": [
    "**Вывод:** KMeans выделяет запросы:\n",
    "        1. прямая трансляция,\n",
    "        2. Рами Малека (он упал со сцены)."
   ]
  },
  {
   "cell_type": "markdown",
   "metadata": {},
   "source": [
    "## NMF"
   ]
  },
  {
   "cell_type": "code",
   "execution_count": 156,
   "metadata": {},
   "outputs": [],
   "source": [
    "# преобразовываем текст в матрицу взвешенных терминов-документов tf-idf\n",
    "vectorizer_nmf_during = TfidfVectorizer(ngram_range=(1,3),token_pattern=r'(?u)\\b\\w\\w\\w+\\b' )\n",
    "X_nmf_during = vectorizer_nmf_during.fit_transform(texts_during)\n",
    " \n",
    "idx_to_word = np.array(vectorizer_nmf_during.get_feature_names())"
   ]
  },
  {
   "cell_type": "code",
   "execution_count": 171,
   "metadata": {},
   "outputs": [],
   "source": [
    "# применяем NMF\n",
    "nmf = NMF(n_components=20, solver=\"mu\")\n",
    "W = nmf.fit_transform(X_nmf_during) \n",
    "H = nmf.components_"
   ]
  },
  {
   "cell_type": "code",
   "execution_count": 172,
   "metadata": {},
   "outputs": [
    {
     "name": "stdout",
     "output_type": "stream",
     "text": [
      "Topic 1: 2019 фото,счастливый,негр платье,2015,номинации\n",
      "Topic 2: 2019 победители,2019 победитеди,оливия,почему песни богемской,предверии\n",
      "Topic 3: оскарбление это какая,оскар 2019 юрский,оскара стс,2019 платье,образы оскар 2019\n",
      "Topic 4: оазис,2019 лучшая мужская,2019 лучший,кравченко оскар каримов,кто\n",
      "Topic 5: оскар которые стоит,тодд фишер,книга номинации,оскар 2019 юрский,негр платье\n",
      "Topic 6: 2019 кто получил,номинированные видео игры,кравиц оскаре,кравиц,дорожка 2019 оскар\n",
      "Topic 7: рубашка подписями,ольга кравченко,получивший,полностью,получившие оскар\n",
      "Topic 8: выдаинули,выступление леди гаги,выступление леди,оскар кучера фильмы,оскар лучший фильм\n",
      "Topic 9: максимум,смотреть кинопоиск,лос анджелесе,премия оскар,премия\n",
      "Topic 10: трансляция россии,тодд фишер,оливия колман оскар,2019 россии,речь\n",
      "Topic 11: оскарбление это какая,оскар 2019 юрский,оскара стс,оскарам,оскарбление\n",
      "Topic 12: русском полностью,рами малек получит,рубашка подписями 2019,2019 смотреть русском,ольга кравченко оскар\n",
      "Topic 13: богемской рапсодии выдаинули,песня леди,песня,богемской рапсодии,богемской\n",
      "Topic 14: оскар ренкель,оскар прошла лос,взял оскар 2019,взял оскар,кто пел оскаре\n",
      "Topic 15: охотник лис оскар,лучший,лучший фильм,охотник,охотник лис\n",
      "Topic 16: все,анджелесе февраля,поет,подписями 2019,негр\n",
      "Topic 17: 2019 кто,видео игры,2019 красная дорожка,колье леди,колье\n",
      "Topic 18: песню оскар,песни богемской рапсодии,песню,2009,номинанты\n",
      "Topic 19: проскар состав,прошла,оливия колман,2019 результаты,проскар\n",
      "Topic 20: оскар 1009,оскар список,брэдли купер леди,пришел,брэдли купер оскар\n"
     ]
    }
   ],
   "source": [
    "# print the topics \n",
    "for i, topic in enumerate(H): \n",
    "    print(\"Topic {}: {}\".format(i + 1, \",\".join([str(x) for x in idx_to_word[topic.argsort()[-5:]]])))"
   ]
  },
  {
   "cell_type": "markdown",
   "metadata": {},
   "source": [
    "**Вывод:** Метод NMF выделяет запросы:\n",
    "1. прямая трансляция;\n",
    "2. объявленных победителей (кто уже получил Оскар);\n",
    "3. красная дорожка (видимо, имеют виду зведы, которые пришли и фотографируются на крансой дорожке);\n",
    "4. Рами Малек упал;\n",
    "5. Песни Оскара - богемская рапсодия, песни Леди Гага"
   ]
  },
  {
   "cell_type": "markdown",
   "metadata": {},
   "source": [
    "## После проведения Оскара"
   ]
  },
  {
   "cell_type": "code",
   "execution_count": 160,
   "metadata": {},
   "outputs": [],
   "source": [
    "texts_after = list(oscar_after['normal_query'].values)"
   ]
  },
  {
   "cell_type": "code",
   "execution_count": 161,
   "metadata": {},
   "outputs": [],
   "source": [
    "# при помощи token_pattern удалим все предлоги (слова меньше 3 букв) и будем использовать слова, которые появляются чаще 2 раз\n",
    "count_vectorizer_after = CountVectorizer(min_df=2, ngram_range=(1,3), token_pattern=r'(?u)\\b\\w\\w\\w+\\b')\n",
    "X_after= count_vectorizer_after.fit_transform(texts_after)"
   ]
  },
  {
   "cell_type": "code",
   "execution_count": 162,
   "metadata": {},
   "outputs": [
    {
     "data": {
      "text/html": [
       "<div>\n",
       "<style scoped>\n",
       "    .dataframe tbody tr th:only-of-type {\n",
       "        vertical-align: middle;\n",
       "    }\n",
       "\n",
       "    .dataframe tbody tr th {\n",
       "        vertical-align: top;\n",
       "    }\n",
       "\n",
       "    .dataframe thead th {\n",
       "        text-align: right;\n",
       "    }\n",
       "</style>\n",
       "<table border=\"1\" class=\"dataframe\">\n",
       "  <thead>\n",
       "    <tr style=\"text-align: right;\">\n",
       "      <th></th>\n",
       "      <th>tokens</th>\n",
       "      <th>frequency</th>\n",
       "    </tr>\n",
       "  </thead>\n",
       "  <tbody>\n",
       "    <tr>\n",
       "      <th>75</th>\n",
       "      <td>оскар</td>\n",
       "      <td>159</td>\n",
       "    </tr>\n",
       "    <tr>\n",
       "      <th>3</th>\n",
       "      <td>2019</td>\n",
       "      <td>121</td>\n",
       "    </tr>\n",
       "    <tr>\n",
       "      <th>77</th>\n",
       "      <td>оскар 2019</td>\n",
       "      <td>99</td>\n",
       "    </tr>\n",
       "    <tr>\n",
       "      <th>91</th>\n",
       "      <td>оскара</td>\n",
       "      <td>24</td>\n",
       "    </tr>\n",
       "    <tr>\n",
       "      <th>94</th>\n",
       "      <td>оскаре</td>\n",
       "      <td>15</td>\n",
       "    </tr>\n",
       "  </tbody>\n",
       "</table>\n",
       "</div>"
      ],
      "text/plain": [
       "        tokens  frequency\n",
       "75       оскар        159\n",
       "3         2019        121\n",
       "77  оскар 2019         99\n",
       "91      оскара         24\n",
       "94      оскаре         15"
      ]
     },
     "execution_count": 162,
     "metadata": {},
     "output_type": "execute_result"
    }
   ],
   "source": [
    "# Сделаем таблицу, где покажем чатстоту появления в запроск каждого токена\n",
    "words_freq_after= pd.DataFrame({'tokens': count_vectorizer_after.get_feature_names(), 'frequency': X_after.toarray().sum(axis = 0)})\n",
    "words_freq_after = words_freq_after.sort_values(by =  'frequency', ascending=False)\n",
    "words_freq_after.head()"
   ]
  },
  {
   "cell_type": "code",
   "execution_count": 163,
   "metadata": {},
   "outputs": [],
   "source": [
    "# Выберем только те запросы, которые встречаются больше 10 раз\n",
    "more_then_3 = words_freq_after['frequency'] >5"
   ]
  },
  {
   "cell_type": "code",
   "execution_count": 164,
   "metadata": {},
   "outputs": [
    {
     "data": {
      "text/plain": [
       "Text(0.5, 1.0, 'После проведения Оскара')"
      ]
     },
     "execution_count": 164,
     "metadata": {},
     "output_type": "execute_result"
    },
    {
     "data": {
      "image/png": "[encoded data removed]",
      "text/plain": [
       "<Figure size 864x720 with 1 Axes>"
      ]
     },
     "metadata": {
      "needs_background": "light"
     },
     "output_type": "display_data"
    }
   ],
   "source": [
    "#vect.vocabulary_.values()\n",
    "plt.figure(figsize=(12, 10))\n",
    "objects = list(words_freq_after.loc[more_then_3, 'tokens'])\n",
    "y_pos = np.arange(len(objects))\n",
    "performance = list(words_freq_after.loc[more_then_3, 'frequency'])\n",
    "\n",
    "plt.barh(y_pos, performance, align='center', alpha=0.5)\n",
    "plt.yticks(y_pos, objects)\n",
    "plt.ylabel('Количество')\n",
    "plt.title('После проведения Оскара')"
   ]
  },
  {
   "cell_type": "markdown",
   "metadata": {},
   "source": [
    "## NMF"
   ]
  },
  {
   "cell_type": "code",
   "execution_count": 165,
   "metadata": {},
   "outputs": [],
   "source": [
    "# преобразовываем текст в матрицу взвешенных терминов-документов tf-idf\n",
    "tfidf_nmf_after = TfidfVectorizer(ngram_range=(1,3),token_pattern=r'(?u)\\b\\w\\w\\w+\\b' )\n",
    "X_nmf_after = tfidf_nmf_after.fit_transform(texts_after)\n",
    " \n",
    "idx_to_word = np.array(tfidf_nmf_after.get_feature_names())"
   ]
  },
  {
   "cell_type": "code",
   "execution_count": 169,
   "metadata": {},
   "outputs": [],
   "source": [
    "# применяем NMF\n",
    "nmf = NMF(n_components=20, solver=\"mu\")\n",
    "W = nmf.fit_transform(X_nmf_after) \n",
    "H = nmf.components_"
   ]
  },
  {
   "cell_type": "code",
   "execution_count": 170,
   "metadata": {},
   "outputs": [
    {
     "name": "stdout",
     "output_type": "stream",
     "text": [
      "Topic 1: наряды,наряды оскар 2019,оскар,2019,оскар 2019\n",
      "Topic 2: оскара,оскара 2019,вручение оскара 2019,вручение оскара,вручение\n",
      "Topic 3: дата,оскар 2019 дата,премия оскар 2019,премия оскар,премия\n",
      "Topic 4: оскар 2019 кто,2019 кто,кто,получил,кто получил\n",
      "Topic 5: кинопоиск,2019 смотреть кинопоиск,смотреть,2019 смотреть,оскар 2019 смотреть\n",
      "Topic 6: преми оскар,итоги,оскар трансляция,оскар итоги,оскар\n",
      "Topic 7: оскар 2017,оскар 2017 победители,победители,2019 победители,оскар 2019 победители\n",
      "Topic 8: 2019 номинанты победители,номинанты победители,номинанты,2019 номинанты,оскар 2019 номинанты\n",
      "Topic 9: фото ковровой дорожки,ковровой дорожки,оскар 2019 фото,2019 фото,фото\n",
      "Topic 10: леди гага оскаре,оскаре,леди гага,гага,леди\n",
      "Topic 11: оскара,оскара 2019,результаты оскара,результаты оскара 2019,результаты\n",
      "Topic 12: джеймс,макэвой,джеймс макэвой оскар,макэвой оскар 2019,макэвой оскар\n",
      "Topic 13: розовый,розовый смокинг оскаре,розовый смокинг,смокинг оскаре,оскаре\n",
      "Topic 14: лучшая мужская роль,лучшая мужская,лучшая,оскар 2019 лучшая,2019 лучшая мужская\n",
      "Topic 15: вручение,вручение оскара 2019,оскара 2019 дата,оскар 2015,2015\n",
      "Topic 16: победители оскар 2019,оскар победители,оскар победители 2019,победители 2019,победители\n",
      "Topic 17: годам,фильмы,лучший,лучший фильм,фильм\n",
      "Topic 18: дорожка оскар,дорожка оскар 2019,красная дорожка,дорожка,красная\n",
      "Topic 19: зеленая книга оскар,зеленая книга,зеленая,книга оскар,книга\n",
      "Topic 20: малек оскар,малек оскар 2019,малек,рами малек,рами\n"
     ]
    }
   ],
   "source": [
    "# print the topics \n",
    "for i, topic in enumerate(H): \n",
    "    print(\"Topic {}: {}\".format(i + 1, \",\".join([str(x) for x in idx_to_word[topic.argsort()[-5:]]])))"
   ]
  },
  {
   "cell_type": "markdown",
   "metadata": {},
   "source": [
    "**Вывод:** Метод NMF выделяет запросы:\n",
    "1. кто получил премию;\n",
    "2. победителей Оскара 2019;\n",
    "3. фото с ковровой дорожки;\n",
    "4. каких-то отдельных звезд, отличившихся на Оскаре.\n",
    "5. Наряды "
   ]
  },
  {
   "cell_type": "code",
   "execution_count": null,
   "metadata": {},
   "outputs": [],
   "source": []
  }
 ],
 "metadata": {
  "kernelspec": {
   "display_name": "Python 3",
   "language": "python",
   "name": "python3"
  },
  "language_info": {
   "codemirror_mode": {
    "name": "ipython",
    "version": 3
   },
   "file_extension": ".py",
   "mimetype": "text/x-python",
   "name": "python",
   "nbconvert_exporter": "python",
   "pygments_lexer": "ipython3",
   "version": "3.6.8"
  }
 },
 "nbformat": 4,
 "nbformat_minor": 2
}
